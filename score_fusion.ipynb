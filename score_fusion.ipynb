{
 "cells": [
  {
   "cell_type": "code",
   "execution_count": 1,
   "metadata": {},
   "outputs": [],
   "source": [
    "import os,sys\n",
    "import numpy as np\n",
    "from sklearn.metrics import confusion_matrix"
   ]
  },
  {
   "cell_type": "code",
   "execution_count": 2,
   "metadata": {},
   "outputs": [
    {
     "name": "stdout",
     "output_type": "stream",
     "text": [
      "None\n",
      "3783\n"
     ]
    }
   ],
   "source": [
    "with open('/home/zhufl/Temporal-Residual-Motion-Generation/tsn-pytorch/data/ucf101_flow_val_split_1.txt', 'r') as f:\n",
    "    flow_list = f.readlines()\n",
    "    \n",
    "with open('/home/zhufl/Temporal-Residual-Motion-Generation/tsn-pytorch/data/ucf101_rgb_val_split_1.txt', 'r') as f:\n",
    "    rgb_list = f.readlines()\n",
    "\n",
    "flow_list = [x[:-1] for x in flow_list]\n",
    "rgb_list = [x[:-1] for x in rgb_list]\n",
    "    \n",
    "flow_dict = {k:v for v, k in enumerate(flow_list)}\n",
    "print(flow_dict.get('/home/zhufl/Data/UCF101_Frame/v_TaiChi_g04_c04 173'))\n",
    "\n",
    "convt_list = []\n",
    "for k in rgb_list:\n",
    "    convt_list.append(flow_dict.get(k))\n",
    "    \n",
    "print(len(convt_list))"
   ]
  },
  {
   "cell_type": "code",
   "execution_count": 3,
   "metadata": {},
   "outputs": [
    {
     "name": "stdout",
     "output_type": "stream",
     "text": [
      "flow order video name /home/zhufl/Data/UCF101_Frame/v_Billiards_g06_c05 260 11\n",
      "rgb order video name /home/zhufl/Data/UCF101_Frame/v_Billiards_g06_c05 260 11\n",
      "flow order video name /home/zhufl/Data/UCF101_Frame/v_Nunchucks_g01_c03 234 55\n",
      "rgb order video name /home/zhufl/Data/UCF101_Frame/v_Nunchucks_g01_c03 234 55\n",
      "flow order video name /home/zhufl/Data/UCF101_Frame/v_ParallelBars_g02_c01 108 56\n",
      "rgb order video name /home/zhufl/Data/UCF101_Frame/v_ParallelBars_g02_c01 108 56\n",
      "flow order video name /home/zhufl/Data/UCF101_Frame/v_JavelinThrow_g05_c06 50 44\n",
      "rgb order video name /home/zhufl/Data/UCF101_Frame/v_JavelinThrow_g05_c06 50 44\n",
      "flow order video name /home/zhufl/Data/UCF101_Frame/v_BalanceBeam_g04_c02 230 4\n",
      "rgb order video name /home/zhufl/Data/UCF101_Frame/v_BalanceBeam_g04_c02 230 4\n",
      "flow order video name /home/zhufl/Data/UCF101_Frame/v_CricketShot_g02_c04 93 23\n",
      "rgb order video name /home/zhufl/Data/UCF101_Frame/v_CricketShot_g02_c04 93 23\n",
      "flow order video name /home/zhufl/Data/UCF101_Frame/v_TableTennisShot_g03_c01 124 89\n",
      "rgb order video name /home/zhufl/Data/UCF101_Frame/v_TableTennisShot_g03_c01 124 89\n",
      "flow order video name /home/zhufl/Data/UCF101_Frame/v_FloorGymnastics_g07_c04 132 29\n",
      "rgb order video name /home/zhufl/Data/UCF101_Frame/v_FloorGymnastics_g07_c04 132 29\n",
      "flow order video name /home/zhufl/Data/UCF101_Frame/v_Kayaking_g03_c02 165 48\n",
      "rgb order video name /home/zhufl/Data/UCF101_Frame/v_Kayaking_g03_c02 165 48\n",
      "flow order video name /home/zhufl/Data/UCF101_Frame/v_HandstandWalking_g07_c01 223 37\n",
      "rgb order video name /home/zhufl/Data/UCF101_Frame/v_HandstandWalking_g07_c01 223 37\n",
      "flow order video name /home/zhufl/Data/UCF101_Frame/v_HorseRiding_g04_c07 239 41\n",
      "rgb order video name /home/zhufl/Data/UCF101_Frame/v_HorseRiding_g04_c07 239 41\n",
      "flow order video name /home/zhufl/Data/UCF101_Frame/v_JumpingJack_g05_c03 99 46\n",
      "rgb order video name /home/zhufl/Data/UCF101_Frame/v_JumpingJack_g05_c03 99 46\n"
     ]
    }
   ],
   "source": [
    "for idx, x in enumerate(convt_list):\n",
    "    print('flow order video name {}'.format(rgb_list[idx]))\n",
    "    print('rgb order video name {}'.format(flow_list[x]))\n",
    "    \n",
    "    if idx > 10:\n",
    "        break"
   ]
  },
  {
   "cell_type": "code",
   "execution_count": 4,
   "metadata": {},
   "outputs": [
    {
     "name": "stdout",
     "output_type": "stream",
     "text": [
      "(3783, 10, 101)\n",
      "(3783, 10, 101)\n",
      "(3783, 10, 101)\n"
     ]
    }
   ],
   "source": [
    "score_file = 'flow_save_score.npz'\n",
    "flow_scores = np.load(score_file)\n",
    "score_file = 'rgb_save_score_2.npz'\n",
    "rgb_scores = np.load(score_file)\n",
    "print(flow_scores['scores1'].shape)\n",
    "print(rgb_scores['scores2'].shape)\n",
    "print(rgb_scores['scores3'].shape)"
   ]
  },
  {
   "cell_type": "code",
   "execution_count": 5,
   "metadata": {},
   "outputs": [
    {
     "name": "stdout",
     "output_type": "stream",
     "text": [
      "(3783, 10, 101)\n",
      "(3783,)\n"
     ]
    }
   ],
   "source": [
    "flow_rst1 = flow_scores['scores1'] # 7x7\n",
    "flow_rst2 = flow_scores['scores2'] # TSN\n",
    "flow_rst3 = flow_scores['scores3'] # 14x14\n",
    "print(flow_rst1.shape)\n",
    "flow_label = flow_scores['label']\n",
    "print(flow_label.shape)\n",
    "\n",
    "rgb_label = rgb_scores['label']\n",
    "rgb_rst1 = rgb_scores['scores1'] # 7x7\n",
    "rgb_rst2 = rgb_scores['scores2'] # TSN\n",
    "rgb_rst3 = rgb_scores['scores3'] # 14x14"
   ]
  },
  {
   "cell_type": "code",
   "execution_count": 6,
   "metadata": {},
   "outputs": [
    {
     "name": "stdout",
     "output_type": "stream",
     "text": [
      "11\n"
     ]
    }
   ],
   "source": [
    "## convt rgb sequence order to flow\n",
    "flow_rst1_convt = [flow_rst1[x] for x in convt_list]\n",
    "flow_rst2_convt = [flow_rst2[x] for x in convt_list]\n",
    "flow_rst3_convt = [flow_rst3[x] for x in convt_list]\n",
    "flow_label_convt = [flow_label[x] for x in convt_list]\n",
    "print(flow_label_convt[0])"
   ]
  },
  {
   "cell_type": "code",
   "execution_count": 7,
   "metadata": {},
   "outputs": [
    {
     "data": {
      "text/plain": [
       "(3783, 10, 101)"
      ]
     },
     "execution_count": 7,
     "metadata": {},
     "output_type": "execute_result"
    }
   ],
   "source": [
    "rgb_rst2.shape"
   ]
  },
  {
   "cell_type": "code",
   "execution_count": 8,
   "metadata": {},
   "outputs": [
    {
     "name": "stdout",
     "output_type": "stream",
     "text": [
      "[0, 1, 2, 3, 4, 5, 6, 7, 8, 9, 10, 11, 12, 13, 14, 15, 16, 17, 18, 19, 20, 21, 22, 23, 24, 25, 26, 27, 28, 29, 30, 31, 32, 33, 34, 35, 36, 37, 38, 39, 40, 41, 42, 43, 44, 45, 46, 47, 48, 49, 50, 51, 52, 53, 54, 55, 56, 57, 58, 59, 60, 61, 62, 63, 64, 65, 66, 67, 68, 69, 70, 71, 72, 73, 74, 75, 76, 77, 78, 79, 80, 81, 82, 83, 84, 85, 86, 87, 88, 89, 90, 91, 92, 93, 94, 95, 96, 97, 98, 99, 100]\n",
      "cls_hit:\n",
      "[40. 31. 34. 35. 30. 41. 36. 25. 37. 48. 37. 40. 34. 33. 15. 42. 44. 37.\n",
      " 25. 29. 30. 38. 23. 23. 33. 45. 39. 33. 38. 32. 32. 26. 26. 28. 17. 33.\n",
      " 24. 11. 39. 24. 35. 49. 34. 45. 21. 36. 26. 16. 33. 34. 31. 22. 32. 35.\n",
      " 31. 13. 36. 20. 37. 41. 49. 47. 41. 28. 40. 31. 28. 40. 28. 19. 34. 19.\n",
      " 25. 41. 31. 36. 33. 33. 26. 28. 32. 28. 31. 31. 39. 32. 34. 32. 38. 39.\n",
      " 26. 48. 33. 29. 43. 27. 34. 32. 20. 45. 25.]\n",
      "cls_cnt:\n",
      "[44. 32. 41. 35. 31. 43. 43. 35. 37. 48. 38. 40. 38. 33. 30. 43. 49. 37.\n",
      " 28. 36. 33. 39. 36. 49. 33. 45. 45. 34. 40. 36. 37. 37. 39. 33. 33. 45.\n",
      " 28. 34. 41. 37. 35. 49. 34. 46. 31. 40. 37. 38. 36. 34. 39. 37. 33. 45.\n",
      " 34. 35. 37. 33. 44. 41. 49. 48. 43. 28. 44. 31. 28. 40. 35. 28. 39. 30.\n",
      " 28. 41. 34. 36. 43. 43. 46. 32. 40. 28. 31. 39. 41. 32. 34. 33. 42. 39.\n",
      " 28. 49. 38. 32. 43. 28. 35. 36. 35. 45. 36.]\n",
      "[0.90909091 0.96875    0.82926829 1.         0.96774194 0.95348837\n",
      " 0.8372093  0.71428571 1.         1.         0.97368421 1.\n",
      " 0.89473684 1.         0.5        0.97674419 0.89795918 1.\n",
      " 0.89285714 0.80555556 0.90909091 0.97435897 0.63888889 0.46938776\n",
      " 1.         1.         0.86666667 0.97058824 0.95       0.88888889\n",
      " 0.86486486 0.7027027  0.66666667 0.84848485 0.51515152 0.73333333\n",
      " 0.85714286 0.32352941 0.95121951 0.64864865 1.         1.\n",
      " 1.         0.97826087 0.67741935 0.9        0.7027027  0.42105263\n",
      " 0.91666667 1.         0.79487179 0.59459459 0.96969697 0.77777778\n",
      " 0.91176471 0.37142857 0.97297297 0.60606061 0.84090909 1.\n",
      " 1.         0.97916667 0.95348837 1.         0.90909091 1.\n",
      " 1.         1.         0.8        0.67857143 0.87179487 0.63333333\n",
      " 0.89285714 1.         0.91176471 1.         0.76744186 0.76744186\n",
      " 0.56521739 0.875      0.8        1.         1.         0.79487179\n",
      " 0.95121951 1.         1.         0.96969697 0.9047619  1.\n",
      " 0.92857143 0.97959184 0.86842105 0.90625    1.         0.96428571\n",
      " 0.97142857 0.88888889 0.57142857 1.         0.69444444]\n",
      "Accuracy 86.27%\n"
     ]
    }
   ],
   "source": [
    "## Single Mode Test\n",
    "video_pred = [np.argmax(x.mean(axis=0)) for x in rgb_rst2]\n",
    "print(list(set(video_pred)))\n",
    "\n",
    "cf = confusion_matrix(rgb_label, video_pred).astype(float)\n",
    "cls_cnt = cf.sum(axis=1)\n",
    "cls_hit = np.diag(cf)\n",
    "print 'cls_hit:'\n",
    "print cls_hit\n",
    "print 'cls_cnt:'\n",
    "print cls_cnt\n",
    "cls_acc = cls_hit / cls_cnt\n",
    "print(cls_acc)\n",
    "print('Accuracy {:.02f}%'.format(np.mean(cls_acc) * 100))"
   ]
  },
  {
   "cell_type": "code",
   "execution_count": 9,
   "metadata": {},
   "outputs": [
    {
     "name": "stdout",
     "output_type": "stream",
     "text": [
      "cls_hit:\n",
      "[42. 32. 40. 35. 31. 43. 37. 35. 37. 48. 38. 40. 36. 33. 28. 43. 42. 37.\n",
      " 28. 22. 33. 39. 25. 29. 33. 45. 45. 34. 34. 31. 37. 27. 39. 31. 16. 44.\n",
      " 27. 27. 41. 37. 35. 49. 34. 46. 29. 40. 37. 38. 36. 34. 35. 35. 33. 44.\n",
      " 33. 31. 36. 31. 43. 41. 49. 48. 42. 28. 44. 31. 28. 40. 35. 26. 36. 26.\n",
      " 28. 41. 34. 36. 42. 40. 41. 30. 32. 26. 31. 37. 41. 32. 34. 33. 41. 39.\n",
      " 28. 49. 38. 32. 42. 27. 35. 31. 30. 45. 33.]\n",
      "cls_cnt:\n",
      "[44. 32. 41. 35. 31. 43. 43. 35. 37. 48. 38. 40. 38. 33. 30. 43. 49. 37.\n",
      " 28. 36. 33. 39. 36. 49. 33. 45. 45. 34. 40. 36. 37. 37. 39. 33. 33. 45.\n",
      " 28. 34. 41. 37. 35. 49. 34. 46. 31. 40. 37. 38. 36. 34. 39. 37. 33. 45.\n",
      " 34. 35. 37. 33. 44. 41. 49. 48. 43. 28. 44. 31. 28. 40. 35. 28. 39. 30.\n",
      " 28. 41. 34. 36. 43. 43. 46. 32. 40. 28. 31. 39. 41. 32. 34. 33. 42. 39.\n",
      " 28. 49. 38. 32. 43. 28. 35. 36. 35. 45. 36.]\n",
      "[0.95454545 1.         0.97560976 1.         1.         1.\n",
      " 0.86046512 1.         1.         1.         1.         1.\n",
      " 0.94736842 1.         0.93333333 1.         0.85714286 1.\n",
      " 1.         0.61111111 1.         1.         0.69444444 0.59183673\n",
      " 1.         1.         1.         1.         0.85       0.86111111\n",
      " 1.         0.72972973 1.         0.93939394 0.48484848 0.97777778\n",
      " 0.96428571 0.79411765 1.         1.         1.         1.\n",
      " 1.         1.         0.93548387 1.         1.         1.\n",
      " 1.         1.         0.8974359  0.94594595 1.         0.97777778\n",
      " 0.97058824 0.88571429 0.97297297 0.93939394 0.97727273 1.\n",
      " 1.         1.         0.97674419 1.         1.         1.\n",
      " 1.         1.         1.         0.92857143 0.92307692 0.86666667\n",
      " 1.         1.         1.         1.         0.97674419 0.93023256\n",
      " 0.89130435 0.9375     0.8        0.92857143 1.         0.94871795\n",
      " 1.         1.         1.         1.         0.97619048 1.\n",
      " 1.         1.         1.         1.         0.97674419 0.96428571\n",
      " 1.         0.86111111 0.85714286 1.         0.91666667]\n",
      "Accuracy 95.24%\n"
     ]
    }
   ],
   "source": [
    "## Fusion Test\n",
    "## OFF paper achieves 95.50% with RGB + RGB_OFF_7x7 + FLOW + FLOW_OFF_7x7\n",
    "## self implementation with 95.24%; There is 0.26% less then 95.5%;\n",
    "\n",
    "video_pred = [\n",
    "    1. *x.mean(axis=0) + 1.5 * y.mean(axis=0) + 1.6 *z.mean(axis=0) +\n",
    "    1.2*m.mean(axis=0) + .8 * n.mean(axis=0) + 1.7*q.mean(axis=0) for x, y, z, m, n, q in zip(rgb_rst1, rgb_rst2, rgb_rst3, flow_rst1_convt, flow_rst2_convt, flow_rst3_convt)\n",
    "]\n",
    "\n",
    "video_pred = [np.argmax(x) for x in video_pred]\n",
    "\n",
    "cf = confusion_matrix(rgb_label, video_pred).astype(float)\n",
    "cls_cnt = cf.sum(axis=1)\n",
    "cls_hit = np.diag(cf)\n",
    "print 'cls_hit:'\n",
    "print cls_hit\n",
    "print 'cls_cnt:'\n",
    "print cls_cnt\n",
    "cls_acc = cls_hit / cls_cnt\n",
    "print(cls_acc)\n",
    "print('Accuracy {:.02f}%'.format(np.mean(cls_acc) * 100))"
   ]
  },
  {
   "cell_type": "code",
   "execution_count": 142,
   "metadata": {},
   "outputs": [
    {
     "name": "stdout",
     "output_type": "stream",
     "text": [
      "cls_hit:\n",
      "[42. 32. 39. 35. 27. 41. 37. 29. 37. 48. 37. 40. 35. 33. 25. 43. 43. 37.\n",
      " 25. 26. 32. 38. 23. 22. 33. 45. 45. 34. 35. 34. 36. 19. 37. 28. 17. 34.\n",
      " 23. 19. 39. 30. 35. 49. 34. 45. 29. 35. 36. 34. 36. 34. 31. 24. 33. 38.\n",
      " 32. 13. 36. 26. 38. 41. 49. 48. 43. 28. 42. 31. 27. 39. 24. 23. 37. 26.\n",
      " 27. 39. 29. 36. 33. 39. 38. 30. 32. 28. 30. 28. 41. 31. 34. 32. 36. 39.\n",
      " 27. 48. 34. 32. 43. 27. 35. 31. 26. 45. 30.]\n",
      "cls_cnt:\n",
      "[44. 32. 41. 35. 31. 43. 43. 35. 37. 48. 38. 40. 38. 33. 30. 43. 49. 37.\n",
      " 28. 36. 33. 39. 36. 49. 33. 45. 45. 34. 40. 36. 37. 37. 39. 33. 33. 45.\n",
      " 28. 34. 41. 37. 35. 49. 34. 46. 31. 40. 37. 38. 36. 34. 39. 37. 33. 45.\n",
      " 34. 35. 37. 33. 44. 41. 49. 48. 43. 28. 44. 31. 28. 40. 35. 28. 39. 30.\n",
      " 28. 41. 34. 36. 43. 43. 46. 32. 40. 28. 31. 39. 41. 32. 34. 33. 42. 39.\n",
      " 28. 49. 38. 32. 43. 28. 35. 36. 35. 45. 36.]\n",
      "[0.95454545 1.         0.95121951 1.         0.87096774 0.95348837\n",
      " 0.86046512 0.82857143 1.         1.         0.97368421 1.\n",
      " 0.92105263 1.         0.83333333 1.         0.87755102 1.\n",
      " 0.89285714 0.72222222 0.96969697 0.97435897 0.63888889 0.44897959\n",
      " 1.         1.         1.         1.         0.875      0.94444444\n",
      " 0.97297297 0.51351351 0.94871795 0.84848485 0.51515152 0.75555556\n",
      " 0.82142857 0.55882353 0.95121951 0.81081081 1.         1.\n",
      " 1.         0.97826087 0.93548387 0.875      0.97297297 0.89473684\n",
      " 1.         1.         0.79487179 0.64864865 1.         0.84444444\n",
      " 0.94117647 0.37142857 0.97297297 0.78787879 0.86363636 1.\n",
      " 1.         1.         1.         1.         0.95454545 1.\n",
      " 0.96428571 0.975      0.68571429 0.82142857 0.94871795 0.86666667\n",
      " 0.96428571 0.95121951 0.85294118 1.         0.76744186 0.90697674\n",
      " 0.82608696 0.9375     0.8        1.         0.96774194 0.71794872\n",
      " 1.         0.96875    1.         0.96969697 0.85714286 1.\n",
      " 0.96428571 0.97959184 0.89473684 1.         1.         0.96428571\n",
      " 1.         0.86111111 0.74285714 1.         0.83333333]\n",
      "Accuracy 90.11%\n"
     ]
    }
   ],
   "source": [
    "## Fusion Test\n",
    "# Single RGB input achieves 90.11% accuracy with below ratio\n",
    "\n",
    "video_pred = [\n",
    "    1.6 *x.mean(axis=0) + 1.5 * y.mean(axis=0) + 2. *z.mean(axis=0) +\n",
    "    0*m.mean(axis=0) + 0 * n.mean(axis=0) + 0 * q.mean(axis=0) for x, y, z, m, n, q in zip(rgb_rst1, rgb_rst2, rgb_rst3, flow_rst1_convt, flow_rst2_convt, flow_rst3_convt)\n",
    "]\n",
    "\n",
    "video_pred = [np.argmax(x) for x in video_pred]\n",
    "\n",
    "cf = confusion_matrix(rgb_label, video_pred).astype(float)\n",
    "cls_cnt = cf.sum(axis=1)\n",
    "cls_hit = np.diag(cf)\n",
    "print 'cls_hit:'\n",
    "print cls_hit\n",
    "print 'cls_cnt:'\n",
    "print cls_cnt\n",
    "cls_acc = cls_hit / cls_cnt\n",
    "print(cls_acc)\n",
    "print('Accuracy {:.02f}%'.format(np.mean(cls_acc) * 100))"
   ]
  },
  {
   "cell_type": "code",
   "execution_count": 215,
   "metadata": {},
   "outputs": [
    {
     "name": "stdout",
     "output_type": "stream",
     "text": [
      "cls_hit:\n",
      "[39. 32. 39. 29. 31. 43. 32. 33. 37. 48. 38. 40. 27. 33. 27. 39. 39. 37.\n",
      " 25. 14. 33. 39. 25. 30. 24. 45. 45. 34. 33. 31. 35. 27. 39. 25. 13. 45.\n",
      " 25. 28. 40. 36. 35. 48. 32. 46. 28. 40. 37. 38. 36. 31. 35. 35. 32. 31.\n",
      " 30. 31. 37. 26. 43. 40. 45. 46. 37. 26. 42. 31. 23. 40. 35. 27. 36. 28.\n",
      " 27. 38. 34. 36. 42. 33. 26. 26. 23. 23. 29. 39. 34. 30. 34. 33. 38. 32.\n",
      " 24. 44. 38. 30. 33. 26. 34. 31. 27. 44. 29.]\n",
      "cls_cnt:\n",
      "[44. 32. 41. 35. 31. 43. 43. 35. 37. 48. 38. 40. 38. 33. 30. 43. 49. 37.\n",
      " 28. 36. 33. 39. 36. 49. 33. 45. 45. 34. 40. 36. 37. 37. 39. 33. 33. 45.\n",
      " 28. 34. 41. 37. 35. 49. 34. 46. 31. 40. 37. 38. 36. 34. 39. 37. 33. 45.\n",
      " 34. 35. 37. 33. 44. 41. 49. 48. 43. 28. 44. 31. 28. 40. 35. 28. 39. 30.\n",
      " 28. 41. 34. 36. 43. 43. 46. 32. 40. 28. 31. 39. 41. 32. 34. 33. 42. 39.\n",
      " 28. 49. 38. 32. 43. 28. 35. 36. 35. 45. 36.]\n",
      "[0.88636364 1.         0.95121951 0.82857143 1.         1.\n",
      " 0.74418605 0.94285714 1.         1.         1.         1.\n",
      " 0.71052632 1.         0.9        0.90697674 0.79591837 1.\n",
      " 0.89285714 0.38888889 1.         1.         0.69444444 0.6122449\n",
      " 0.72727273 1.         1.         1.         0.825      0.86111111\n",
      " 0.94594595 0.72972973 1.         0.75757576 0.39393939 1.\n",
      " 0.89285714 0.82352941 0.97560976 0.97297297 1.         0.97959184\n",
      " 0.94117647 1.         0.90322581 1.         1.         1.\n",
      " 1.         0.91176471 0.8974359  0.94594595 0.96969697 0.68888889\n",
      " 0.88235294 0.88571429 1.         0.78787879 0.97727273 0.97560976\n",
      " 0.91836735 0.95833333 0.86046512 0.92857143 0.95454545 1.\n",
      " 0.82142857 1.         1.         0.96428571 0.92307692 0.93333333\n",
      " 0.96428571 0.92682927 1.         1.         0.97674419 0.76744186\n",
      " 0.56521739 0.8125     0.575      0.82142857 0.93548387 1.\n",
      " 0.82926829 0.9375     1.         1.         0.9047619  0.82051282\n",
      " 0.85714286 0.89795918 1.         0.9375     0.76744186 0.92857143\n",
      " 0.97142857 0.86111111 0.77142857 0.97777778 0.80555556]\n",
      "Accuracy 89.88%\n"
     ]
    }
   ],
   "source": [
    "## Fusion Test\n",
    "# Single Optical Flow input achieves 89.88% accuracy at most with below ratio\n",
    "\n",
    "video_pred = [\n",
    "    0 *x.mean(axis=0) + 0 * y.mean(axis=0) + 0 *z.mean(axis=0) +\n",
    "    3.1 * m.mean(axis=0) + 1.0 * n.mean(axis=0) + 1.2 * q.mean(axis=0) for x, y, z, m, n, q in zip(rgb_rst1, rgb_rst2, rgb_rst3, flow_rst1_convt, flow_rst2_convt, flow_rst3_convt)\n",
    "]\n",
    "\n",
    "video_pred = [np.argmax(x) for x in video_pred]\n",
    "\n",
    "cf = confusion_matrix(rgb_label, video_pred).astype(float)\n",
    "cls_cnt = cf.sum(axis=1)\n",
    "cls_hit = np.diag(cf)\n",
    "print 'cls_hit:'\n",
    "print cls_hit\n",
    "print 'cls_cnt:'\n",
    "print cls_cnt\n",
    "cls_acc = cls_hit / cls_cnt\n",
    "print(cls_acc)\n",
    "print('Accuracy {:.02f}%'.format(np.mean(cls_acc) * 100))"
   ]
  },
  {
   "cell_type": "code",
   "execution_count": 20,
   "metadata": {},
   "outputs": [
    {
     "name": "stdout",
     "output_type": "stream",
     "text": [
      "cls_hit:\n",
      "[43. 32. 41. 35. 31. 43. 36. 35. 37. 48. 38. 40. 35. 33. 25. 41. 43. 37.\n",
      " 27. 21. 33. 39. 24. 29. 33. 45. 45. 34. 39. 35. 37. 27. 39. 31. 15. 39.\n",
      " 27. 26. 41. 34. 35. 49. 34. 46. 29. 40. 37. 38. 36. 34. 36. 32. 31. 45.\n",
      " 33. 27. 37. 26. 42. 41. 49. 47. 43. 28. 44. 31. 28. 40. 35. 23. 35. 26.\n",
      " 25. 41. 34. 36. 43. 37. 37. 28. 34. 25. 31. 35. 37. 32. 34. 33. 41. 39.\n",
      " 25. 49. 38. 32. 41. 27. 35. 34. 30. 45. 32.]\n",
      "cls_cnt:\n",
      "[44. 32. 41. 35. 31. 43. 43. 35. 37. 48. 38. 40. 38. 33. 30. 43. 49. 37.\n",
      " 28. 36. 33. 39. 36. 49. 33. 45. 45. 34. 40. 36. 37. 37. 39. 33. 33. 45.\n",
      " 28. 34. 41. 37. 35. 49. 34. 46. 31. 40. 37. 38. 36. 34. 39. 37. 33. 45.\n",
      " 34. 35. 37. 33. 44. 41. 49. 48. 43. 28. 44. 31. 28. 40. 35. 28. 39. 30.\n",
      " 28. 41. 34. 36. 43. 43. 46. 32. 40. 28. 31. 39. 41. 32. 34. 33. 42. 39.\n",
      " 28. 49. 38. 32. 43. 28. 35. 36. 35. 45. 36.]\n",
      "[0.97727273 1.         1.         1.         1.         1.\n",
      " 0.8372093  1.         1.         1.         1.         1.\n",
      " 0.92105263 1.         0.83333333 0.95348837 0.87755102 1.\n",
      " 0.96428571 0.58333333 1.         1.         0.66666667 0.59183673\n",
      " 1.         1.         1.         1.         0.975      0.97222222\n",
      " 1.         0.72972973 1.         0.93939394 0.45454545 0.86666667\n",
      " 0.96428571 0.76470588 1.         0.91891892 1.         1.\n",
      " 1.         1.         0.93548387 1.         1.         1.\n",
      " 1.         1.         0.92307692 0.86486486 0.93939394 1.\n",
      " 0.97058824 0.77142857 1.         0.78787879 0.95454545 1.\n",
      " 1.         0.97916667 1.         1.         1.         1.\n",
      " 1.         1.         1.         0.82142857 0.8974359  0.86666667\n",
      " 0.89285714 1.         1.         1.         1.         0.86046512\n",
      " 0.80434783 0.875      0.85       0.89285714 1.         0.8974359\n",
      " 0.90243902 1.         1.         1.         0.97619048 1.\n",
      " 0.89285714 1.         1.         1.         0.95348837 0.96428571\n",
      " 1.         0.94444444 0.85714286 1.         0.88888889]\n",
      "Accuracy 94.02%\n"
     ]
    }
   ],
   "source": [
    "## Fusion of origin RGB and Flow\n",
    "video_pred = [\n",
    "    0. *x.mean(axis=0) + 1.1 * y.mean(axis=0) + 0 *z.mean(axis=0) +\n",
    "    0 * m.mean(axis=0) + 1. * n.mean(axis=0) + 0 *q.mean(axis=0) for x, y, z, m, n, q in zip(rgb_rst1, rgb_rst2, rgb_rst3, flow_rst1_convt, flow_rst2_convt, flow_rst3_convt)\n",
    "]\n",
    "\n",
    "video_pred = [np.argmax(x) for x in video_pred]\n",
    "\n",
    "cf = confusion_matrix(rgb_label, video_pred).astype(float)\n",
    "cls_cnt = cf.sum(axis=1)\n",
    "cls_hit = np.diag(cf)\n",
    "print 'cls_hit:'\n",
    "print cls_hit\n",
    "print 'cls_cnt:'\n",
    "print cls_cnt\n",
    "cls_acc = cls_hit / cls_cnt\n",
    "print(cls_acc)\n",
    "print('Accuracy {:.02f}%'.format(np.mean(cls_acc) * 100))"
   ]
  }
 ],
 "metadata": {
  "kernelspec": {
   "display_name": "Python 2",
   "language": "python",
   "name": "python2"
  },
  "language_info": {
   "codemirror_mode": {
    "name": "ipython",
    "version": 2
   },
   "file_extension": ".py",
   "mimetype": "text/x-python",
   "name": "python",
   "nbconvert_exporter": "python",
   "pygments_lexer": "ipython2",
   "version": "2.7.12"
  }
 },
 "nbformat": 4,
 "nbformat_minor": 2
}
